{
 "cells": [
  {
   "cell_type": "markdown",
   "metadata": {},
   "source": [
    "# Naive Bayes\n",
    "\n",
    "## Conceitos\n",
    "\n",
    "O Algoritmo **Naive Bayes** funciona como classificador e baseia-se na probabilidade de cada evento ocorrer, desconsiderando a correlação entre features. \n",
    "\n",
    "\n",
    "A ingenuidade (“Naive” = ingênuo) do modelo resulta do fato de que a suposição de independência, no geral, não é verdadeira para a grande maioria dos casos (devido a correlações entre variáveis) mas simplifica consideravelmente a análise. Resultado que atribui características interessantes ao modelo e o tornam atraente para algumas aplicações.\n",
    "\n",
    "Baseado na teoria da probabilidade condicional, o teorema de Bayes é definido matematicamente como:\n",
    "\n",
    "![ texto](imagens/NB1.png)\n",
    "\n",
    "- **Posterior Probability** (probabilidade a posteriori) é a Resposta da predição do nosso Naive Bayes para uma nova amostra, onde cada valor representa a probabilidade da amostra pertencer a uma classe específica após levar em consideração os dados observados.\n",
    "\n",
    "- **Class Prior Probability** é a probabilidade a priori de uma determinada classe. Essa probabilidade expressa nossa crença inicial sobre a chance de uma amostra pertencer a uma classe específica antes de observarmos os dados.\n",
    "\n",
    "- **Predictor Prior Probability** (Probabilidade Marginal) é a probabilidade de ocorrência do atributo. Representa a probabilidade dados os novos dados sob todos os valores possíveis de atributos para cada classe. Repare que não é necessário calcular esse valor (eles apenas normaliza as nossas probabilidades). Sem esse termo, temos as predições. Com ele, nós temos a probabilidade exata. Entretanto, não normalizar as predições (para gerar as probabilidades) não altera o resultado final.\n",
    "\n",
    "- **Likelihood** (verossimilhança) é calculada pelo produtório de todas as Funções de Densidade de Probabilidade Normal (Normal Probability Density Functions). A FDP Normal é calculada usando a distribuição Gaussiana. Daí o nome Gaussian Naive Bayes. Nós utilizaremos a FDP Normal para calcular o valor da probabilidade normal para cada atributo dado uma classe. \n",
    "\n",
    "OBS: É importante não confundir verossimilhança com probabilidade: A **probabilidade normal** é calculada para cada atributo dada uma classe e seu valor está sempre entre 0 e 1. A **verossimilhança** é o produto de todas as probabilidades normais para todos os atributos.\n",
    "\n",
    "Na prática, o algoritmo Naive Bayes é frequentemente utilizado para classificar textos, como na detecção de spam ou na categorização de documentos. Ele usa a frequência das palavras para calcular a probabilidade de um documento pertencer a uma determinada classe (por exemplo, spam ou não spam)."
   ]
  }
 ],
 "metadata": {
  "kernelspec": {
   "display_name": "Python 3",
   "language": "python",
   "name": "python3"
  },
  "language_info": {
   "name": "python",
   "version": "3.11.2"
  }
 },
 "nbformat": 4,
 "nbformat_minor": 2
}
